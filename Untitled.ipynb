{
 "cells": [
  {
   "cell_type": "markdown",
   "id": "d11ad9b5",
   "metadata": {},
   "source": [
    "# Multi-Slice clustering (MSC) for 3-order tensor\n",
    "\n",
    "The MSC algorithm is a clustering algorithm applied to a third order tensor $\\mathcal{T}\\in\\mathbb{R}^{m_1\\times m_2\\times m_3}$, $\\mathcal{T} = \\mathcal{X}+\\mathcal{Z}$. \n",
    "\n",
    "* $\\mathcal{X}$ is the signal tensor\n",
    "* $\\mathcal{Z}$ is the noise tensor\n",
    "\n",
    "The theoretical approach assumes that the signal tensor  is a rank one tensor. \n",
    "\n",
    "![an image](signal_rank_one.png)\n",
    "\n",
    "For each mode of $\\mathcal{T}$, this method studies each matrix slice. We select the top-eigenvectors of the covariance matrix of all slices and study a covariance-type matrix associated with those. This guides us towards the selection of an index subset  with highly similar features.  \n",
    "\n",
    "**The similarity within the group is controlled by the parameter given to the algorithm.**\n",
    "\n",
    "![an image](msc.png)\n",
    "\n",
    "**Theorem** : Let $|J_1|=l$, assume that $\\sqrt{\\epsilon}\\le \\frac{1}{m_1-l}$. $\\forall i,n\\in J_1 $, for $\\lambda = \\mathcal{O}(\\mu)$ we have \n",
    "\n",
    "$$ |d_i - d_{n}| \\le l\\frac{\\epsilon}{2} + \\sqrt{\\log(m_1-l)} $$ \n",
    "\n",
    "with probability at least $ 1 - e(m_1 - l)^{-c_1} $ with a constant $ c_1 > 0 $.\n",
    "\n",
    "\n",
    "where \t$d_i =  \\sum_{j\\in [m_1]} c_{i,j} = \\sum_{j\\in [m_1]} | \\langle \\tilde\\lambda_i \\mathbf{v}_i,\\tilde\\lambda_j \\mathbf{v}_j \\rangle| . $\n",
    "\n",
    "\n",
    "[1] Andriantsiory, D.F., Ben Geloun, J., Lebbah, M.: Multi-slice clustering for 3-order tensor data - supplementary material. arXiv preprint arXiv:2109.10803 (2021)\n",
    "\n",
    "[2] Andriantsiory, D.F., Geloun, J.B., Lebbah, M.: Multi-slice clustering for 3-order tensor. In: 2021 20th IEEE International Conference on Machine Learning and Applications (ICMLA), pp. 173–178 (2021)\n"
   ]
  },
  {
   "cell_type": "code",
   "execution_count": null,
   "id": "34d8a24d",
   "metadata": {},
   "outputs": [],
   "source": []
  }
 ],
 "metadata": {
  "kernelspec": {
   "display_name": "Python 3 (ipykernel)",
   "language": "python",
   "name": "python3"
  },
  "language_info": {
   "codemirror_mode": {
    "name": "ipython",
    "version": 3
   },
   "file_extension": ".py",
   "mimetype": "text/x-python",
   "name": "python",
   "nbconvert_exporter": "python",
   "pygments_lexer": "ipython3",
   "version": "3.8.10"
  }
 },
 "nbformat": 4,
 "nbformat_minor": 5
}
